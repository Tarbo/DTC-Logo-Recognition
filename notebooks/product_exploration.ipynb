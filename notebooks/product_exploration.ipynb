{
 "cells": [
  {
   "cell_type": "code",
   "execution_count": 1,
   "metadata": {},
   "outputs": [],
   "source": [
    "import pandas as pd\n",
    "import os"
   ]
  },
  {
   "cell_type": "code",
   "execution_count": 3,
   "metadata": {},
   "outputs": [
    {
     "name": "stdout",
     "output_type": "stream",
     "text": [
      ">>> Shape of data is: (1023325, 2) \n"
     ]
    }
   ],
   "source": [
    "# we will read only the urls and explore their number and all that\n",
    "img_dir='C:/Users/melli/OneDrive/insight/data/'\n",
    "url_df = pd.read_csv(os.path.join(img_dir,\n",
    "    \"products_url.csv\"), usecols=[1,2], dtype=str)\n",
    "url_df.tail(10)  # display the last ten items\n",
    "print(f'>>> Shape of data is: {url_df.shape} ')"
   ]
  },
  {
   "cell_type": "code",
   "execution_count": 4,
   "metadata": {
    "scrolled": true
   },
   "outputs": [
    {
     "data": {
      "text/html": [
       "<div>\n",
       "<style scoped>\n",
       "    .dataframe tbody tr th:only-of-type {\n",
       "        vertical-align: middle;\n",
       "    }\n",
       "\n",
       "    .dataframe tbody tr th {\n",
       "        vertical-align: top;\n",
       "    }\n",
       "\n",
       "    .dataframe thead th {\n",
       "        text-align: right;\n",
       "    }\n",
       "</style>\n",
       "<table border=\"1\" class=\"dataframe\">\n",
       "  <thead>\n",
       "    <tr style=\"text-align: right;\">\n",
       "      <th></th>\n",
       "      <th>product_uuid</th>\n",
       "      <th>image_url</th>\n",
       "    </tr>\n",
       "  </thead>\n",
       "  <tbody>\n",
       "    <tr>\n",
       "      <th>1023305</th>\n",
       "      <td>cee2800b55d0441683849da979ba5dc4</td>\n",
       "      <td>//cdn.shopify.com/s/files/1/1007/8070/products...</td>\n",
       "    </tr>\n",
       "    <tr>\n",
       "      <th>1023306</th>\n",
       "      <td>163751da32a741a9bb0a039893c6e475</td>\n",
       "      <td>https://cdn.shopify.com/s/files/1/0516/1357/pr...</td>\n",
       "    </tr>\n",
       "    <tr>\n",
       "      <th>1023307</th>\n",
       "      <td>717eb5c1c97644f098e61b196d5d0ac4</td>\n",
       "      <td>https://cdn.shopify.com/s/files/1/0051/0392/pr...</td>\n",
       "    </tr>\n",
       "    <tr>\n",
       "      <th>1023308</th>\n",
       "      <td>70707495c82d4220ad764459ffb70702</td>\n",
       "      <td>https://cdn.shopify.com/s/files/1/1007/8070/pr...</td>\n",
       "    </tr>\n",
       "    <tr>\n",
       "      <th>1023309</th>\n",
       "      <td>22d155215fc943678dbfedce6bc6b017</td>\n",
       "      <td>https://cdn.shopify.com/s/files/1/1007/8070/pr...</td>\n",
       "    </tr>\n",
       "    <tr>\n",
       "      <th>1023310</th>\n",
       "      <td>72cc2ff311e1457898021c1b935cadc0</td>\n",
       "      <td>//cdn.shopify.com/s/files/1/1007/8070/products...</td>\n",
       "    </tr>\n",
       "    <tr>\n",
       "      <th>1023311</th>\n",
       "      <td>059d0c73e54f4a99accd5666458c09b3</td>\n",
       "      <td>https://cdn.shopify.com/s/files/1/1007/8070/pr...</td>\n",
       "    </tr>\n",
       "    <tr>\n",
       "      <th>1023312</th>\n",
       "      <td>7e629142dc7e44baa6ad5d6eed3d105d</td>\n",
       "      <td>//cdn.shopify.com/s/files/1/1007/8070/products...</td>\n",
       "    </tr>\n",
       "    <tr>\n",
       "      <th>1023313</th>\n",
       "      <td>71b9edb5c45749bbbe3fa465647a064a</td>\n",
       "      <td>https://cdn.shopify.com/s/files/1/1563/8839/pr...</td>\n",
       "    </tr>\n",
       "    <tr>\n",
       "      <th>1023314</th>\n",
       "      <td>fa0c7ce999cc48508486a35aab8ecd51</td>\n",
       "      <td>https://cdn.shopify.com/s/files/1/1563/8839/pr...</td>\n",
       "    </tr>\n",
       "    <tr>\n",
       "      <th>1023315</th>\n",
       "      <td>19102ef908f34b09a51902e653936760</td>\n",
       "      <td>https://cdn.shopify.com/s/files/1/1563/8839/pr...</td>\n",
       "    </tr>\n",
       "    <tr>\n",
       "      <th>1023316</th>\n",
       "      <td>46d1cf4b8b634097907374659b3a58d6</td>\n",
       "      <td>https://cdn.shopify.com/s/files/1/0265/1910/96...</td>\n",
       "    </tr>\n",
       "    <tr>\n",
       "      <th>1023317</th>\n",
       "      <td>f49536d34a964c0e8823c6c393553dcb</td>\n",
       "      <td>https://cdn.shopify.com/s/files/1/1563/8839/pr...</td>\n",
       "    </tr>\n",
       "    <tr>\n",
       "      <th>1023318</th>\n",
       "      <td>8794cda9c1ff462995b75159db5b6cf6</td>\n",
       "      <td>https://cdn.shopify.com/s/files/1/1563/8839/pr...</td>\n",
       "    </tr>\n",
       "    <tr>\n",
       "      <th>1023319</th>\n",
       "      <td>51835bfa17324d0abce8ff9a4a9b4a37</td>\n",
       "      <td>https://cdn.shopify.com/s/files/1/0119/7001/93...</td>\n",
       "    </tr>\n",
       "    <tr>\n",
       "      <th>1023320</th>\n",
       "      <td>cc3922e620844a7aa238e71da785c357</td>\n",
       "      <td>https://cdn.shopify.com/s/files/1/0265/1910/96...</td>\n",
       "    </tr>\n",
       "    <tr>\n",
       "      <th>1023321</th>\n",
       "      <td>219ebb7f990546ad82a8fe29c2450f5e</td>\n",
       "      <td>https://cdn.shopify.com/s/files/1/1563/8839/pr...</td>\n",
       "    </tr>\n",
       "    <tr>\n",
       "      <th>1023322</th>\n",
       "      <td>5d4b36e4d9d94ec38ca60ce6277a2d13</td>\n",
       "      <td>https://cdn.shopify.com/s/files/1/1563/8839/pr...</td>\n",
       "    </tr>\n",
       "    <tr>\n",
       "      <th>1023323</th>\n",
       "      <td>8b8f676cd4984a95b7bf335d5b5b2516</td>\n",
       "      <td>https://cdn.shopify.com/s/files/1/0265/1910/96...</td>\n",
       "    </tr>\n",
       "    <tr>\n",
       "      <th>1023324</th>\n",
       "      <td>14a61adccb8f4fd59dcac38e77543dff</td>\n",
       "      <td>https://cdn.shopify.com/s/files/1/0265/1910/96...</td>\n",
       "    </tr>\n",
       "  </tbody>\n",
       "</table>\n",
       "</div>"
      ],
      "text/plain": [
       "                             product_uuid  \\\n",
       "1023305  cee2800b55d0441683849da979ba5dc4   \n",
       "1023306  163751da32a741a9bb0a039893c6e475   \n",
       "1023307  717eb5c1c97644f098e61b196d5d0ac4   \n",
       "1023308  70707495c82d4220ad764459ffb70702   \n",
       "1023309  22d155215fc943678dbfedce6bc6b017   \n",
       "1023310  72cc2ff311e1457898021c1b935cadc0   \n",
       "1023311  059d0c73e54f4a99accd5666458c09b3   \n",
       "1023312  7e629142dc7e44baa6ad5d6eed3d105d   \n",
       "1023313  71b9edb5c45749bbbe3fa465647a064a   \n",
       "1023314  fa0c7ce999cc48508486a35aab8ecd51   \n",
       "1023315  19102ef908f34b09a51902e653936760   \n",
       "1023316  46d1cf4b8b634097907374659b3a58d6   \n",
       "1023317  f49536d34a964c0e8823c6c393553dcb   \n",
       "1023318  8794cda9c1ff462995b75159db5b6cf6   \n",
       "1023319  51835bfa17324d0abce8ff9a4a9b4a37   \n",
       "1023320  cc3922e620844a7aa238e71da785c357   \n",
       "1023321  219ebb7f990546ad82a8fe29c2450f5e   \n",
       "1023322  5d4b36e4d9d94ec38ca60ce6277a2d13   \n",
       "1023323  8b8f676cd4984a95b7bf335d5b5b2516   \n",
       "1023324  14a61adccb8f4fd59dcac38e77543dff   \n",
       "\n",
       "                                                 image_url  \n",
       "1023305  //cdn.shopify.com/s/files/1/1007/8070/products...  \n",
       "1023306  https://cdn.shopify.com/s/files/1/0516/1357/pr...  \n",
       "1023307  https://cdn.shopify.com/s/files/1/0051/0392/pr...  \n",
       "1023308  https://cdn.shopify.com/s/files/1/1007/8070/pr...  \n",
       "1023309  https://cdn.shopify.com/s/files/1/1007/8070/pr...  \n",
       "1023310  //cdn.shopify.com/s/files/1/1007/8070/products...  \n",
       "1023311  https://cdn.shopify.com/s/files/1/1007/8070/pr...  \n",
       "1023312  //cdn.shopify.com/s/files/1/1007/8070/products...  \n",
       "1023313  https://cdn.shopify.com/s/files/1/1563/8839/pr...  \n",
       "1023314  https://cdn.shopify.com/s/files/1/1563/8839/pr...  \n",
       "1023315  https://cdn.shopify.com/s/files/1/1563/8839/pr...  \n",
       "1023316  https://cdn.shopify.com/s/files/1/0265/1910/96...  \n",
       "1023317  https://cdn.shopify.com/s/files/1/1563/8839/pr...  \n",
       "1023318  https://cdn.shopify.com/s/files/1/1563/8839/pr...  \n",
       "1023319  https://cdn.shopify.com/s/files/1/0119/7001/93...  \n",
       "1023320  https://cdn.shopify.com/s/files/1/0265/1910/96...  \n",
       "1023321  https://cdn.shopify.com/s/files/1/1563/8839/pr...  \n",
       "1023322  https://cdn.shopify.com/s/files/1/1563/8839/pr...  \n",
       "1023323  https://cdn.shopify.com/s/files/1/0265/1910/96...  \n",
       "1023324  https://cdn.shopify.com/s/files/1/0265/1910/96...  "
      ]
     },
     "execution_count": 4,
     "metadata": {},
     "output_type": "execute_result"
    }
   ],
   "source": [
    "url_df.tail(20)"
   ]
  },
  {
   "cell_type": "code",
   "execution_count": 5,
   "metadata": {},
   "outputs": [],
   "source": [
    "with open(os.path.join(img_dir,\"products_url.csv\"), 'r', errors='ignore') as txtfile:\n",
    "            img_ids, urls = zip(*[line.split(',')[1:3] for line in txtfile.readlines()])"
   ]
  },
  {
   "cell_type": "code",
   "execution_count": 10,
   "metadata": {},
   "outputs": [
    {
     "data": {
      "text/plain": [
       "1023326"
      ]
     },
     "execution_count": 10,
     "metadata": {},
     "output_type": "execute_result"
    }
   ],
   "source": [
    "len(img_ids)"
   ]
  }
 ],
 "metadata": {
  "kernelspec": {
   "display_name": "Python 3.8.3 64-bit",
   "language": "python",
   "name": "python38364bit8840b1e5cbc64ac4bf7b4dc6700fbcec"
  },
  "language_info": {
   "codemirror_mode": {
    "name": "ipython",
    "version": 3
   },
   "file_extension": ".py",
   "mimetype": "text/x-python",
   "name": "python",
   "nbconvert_exporter": "python",
   "pygments_lexer": "ipython3",
   "version": "3.8.3"
  }
 },
 "nbformat": 4,
 "nbformat_minor": 4
}
